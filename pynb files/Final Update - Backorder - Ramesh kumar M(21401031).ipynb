{
 "cells": [
  {
   "cell_type": "markdown",
   "id": "a2732d13",
   "metadata": {},
   "source": [
    "# Predicting Material Backorders in Inventory Management\n",
    "\n",
    "## Final Update"
   ]
  },
  {
   "cell_type": "code",
   "execution_count": 1,
   "id": "2c9f0c40",
   "metadata": {},
   "outputs": [],
   "source": [
    "import numpy as np\n",
    "import pandas as pd\n",
    "import matplotlib.pyplot as plt\n",
    "import pickle\n",
    "from sklearn.metrics import accuracy_score, roc_curve, auc\n",
    "\n",
    "import warnings\n",
    "warnings.filterwarnings(\"ignore\")"
   ]
  },
  {
   "cell_type": "code",
   "execution_count": 2,
   "id": "ca4ab9cf",
   "metadata": {},
   "outputs": [],
   "source": [
    "#constants calculated from eda & feature engineering\n",
    "lead_time_mean = float(np.load('lead_time_mean.npy'))\n",
    "potential_issue_probability_matrix = pd.read_csv('potential_issue_probability_matrix.csv')\n",
    "deck_risk_probability_matrix = pd.read_csv('deck_risk_probability_matrix.csv')\n",
    "oe_constraint_probability_matrix = pd.read_csv('oe_constraint_probability_matrix.csv')\n",
    "ppap_risk_probability_matrix = pd.read_csv('ppap_risk_probability_matrix.csv')\n",
    "stop_auto_buy_probability_matrix = pd.read_csv('stop_auto_buy_probability_matrix.csv')\n",
    "rev_stop_probability_matrix = pd.read_csv('rev_stop_probability_matrix.csv')"
   ]
  },
  {
   "cell_type": "code",
   "execution_count": 3,
   "id": "82523d5d",
   "metadata": {},
   "outputs": [],
   "source": [
    "data = pd.read_csv(\"R:\\\\Mini Project - Supply Chain (Back order)\\\\Test_Dataset_v2.csv\")"
   ]
  },
  {
   "cell_type": "code",
   "execution_count": 4,
   "id": "47eeb1c5",
   "metadata": {},
   "outputs": [],
   "source": [
    "y = data['went_on_backorder']"
   ]
  },
  {
   "cell_type": "code",
   "execution_count": 5,
   "id": "68a547e2",
   "metadata": {},
   "outputs": [],
   "source": [
    "x = data.drop('went_on_backorder', axis=1)"
   ]
  },
  {
   "cell_type": "markdown",
   "id": "c87e688a",
   "metadata": {},
   "source": [
    "# final_func_1"
   ]
  },
  {
   "cell_type": "code",
   "execution_count": 8,
   "id": "2263f012",
   "metadata": {},
   "outputs": [],
   "source": [
    "def final_fun_1(x):\n",
    "    \"\"\"\n",
    "    Takes the dataframe as input and predicts if the products have gone into backorder or not. 0 indicates the product has not gone into backorder\n",
    "    and 1 indicates, the product has gone into backorder.\n",
    "    \"\"\"    \n",
    "    if type(x) == dict:\n",
    "        dataframe = pd.DataFrame(x, index=[0], columns=['sku', 'national_inv', 'lead_time', 'in_transit_qty',\n",
    "                                                    'forecast_3_month', 'forecast_6_month', 'forecast_9_month',\n",
    "                                                    'sales_1_month', 'sales_3_month', 'sales_6_month', 'sales_9_month',\n",
    "                                                    'min_bank', 'potential_issue', 'pieces_past_due', 'perf_6_month_avg',\n",
    "                                                    'perf_12_month_avg', 'local_bo_qty', 'deck_risk', 'oe_constraint',\n",
    "                                                    'ppap_risk', 'stop_auto_buy', 'rev_stop'])\n",
    "    else:\n",
    "        dataframe = x\n",
    "    \n",
    "    dataframe = dataframe.drop('sku', axis=1) #dropping sku column\n",
    "    \n",
    "    if dataframe.iloc[-1].isna().all() == True:\n",
    "        dataframe = dataframe[:-1] #removing last row as there are NaN values\n",
    "\n",
    "    dataframe = dataframe.fillna(lead_time_mean) #mean imputation\n",
    "    dataframe.replace({'Yes': 1, 'No': 0}, inplace=True) #converting categorical features into binary features\n",
    "    \n",
    "    #adding binary_pieces_past_due\n",
    "    conditions = [dataframe['pieces_past_due'] == 0, dataframe['pieces_past_due'] > 0]\n",
    "    values = [0, 1]\n",
    "    dataframe['binary_pieces_past_due'] = np.select(conditions, values)\n",
    "    \n",
    "    #adding binary_local_bo_qty\n",
    "    conditions = [dataframe['local_bo_qty'] == 0, dataframe['local_bo_qty'] > 0]\n",
    "    values = [0, 1]\n",
    "    dataframe['binary_local_bo_qty'] = np.select(conditions, values)\n",
    "    \n",
    "    #imputing all categorical features\n",
    "    conditions_pt = [dataframe['potential_issue'] == 0, dataframe['potential_issue'] == 1]\n",
    "    values_pt = [potential_issue_probability_matrix['No'][0], potential_issue_probability_matrix['No'][1]]\n",
    "    dataframe['potential_issue'] = np.select(conditions_pt, values_pt)\n",
    "    \n",
    "    conditions_dr = [dataframe['deck_risk'] == 0, dataframe['deck_risk'] == 1]\n",
    "    values_dr = [deck_risk_probability_matrix['No'][0], deck_risk_probability_matrix['No'][1]]\n",
    "    dataframe['deck_risk'] = np.select(conditions_dr, values_dr)\n",
    "\n",
    "    conditions_oe = [dataframe['oe_constraint'] == 0, dataframe['oe_constraint'] == 1]\n",
    "    values_oe = [oe_constraint_probability_matrix['No'][0], oe_constraint_probability_matrix['No'][1]]\n",
    "    dataframe['oe_constraint'] = np.select(conditions_oe, values_oe)\n",
    "\n",
    "    conditions_pp = [dataframe['ppap_risk'] == 0, dataframe['ppap_risk'] == 1]\n",
    "    values_pp = [ppap_risk_probability_matrix['No'][0], ppap_risk_probability_matrix['No'][1]]\n",
    "    dataframe['ppap_risk'] = np.select(conditions_pp, values_pp)\n",
    "\n",
    "    conditions_stp = [dataframe['stop_auto_buy'] == 0, dataframe['stop_auto_buy'] == 1]\n",
    "    values_stp = [stop_auto_buy_probability_matrix['No'][0], stop_auto_buy_probability_matrix['No'][1]]\n",
    "    dataframe['stop_auto_buy'] = np.select(conditions_stp, values_stp)\n",
    "\n",
    "    conditions_rev = [dataframe['rev_stop'] == 0, dataframe['rev_stop'] == 1]\n",
    "    values_rev = [rev_stop_probability_matrix['No'][0], rev_stop_probability_matrix['No'][1]]\n",
    "    dataframe['rev_stop'] = np.select(conditions_rev, values_rev)\n",
    "\n",
    "    filename = 'best_model_forest.h5'\n",
    "    best_model = pickle.load(open(filename, 'rb'))\n",
    "    predictions = best_model.predict(dataframe)\n",
    "    if len(predictions) == 1:\n",
    "        predictions = int(predictions)\n",
    "    return predictions"
   ]
  },
  {
   "cell_type": "code",
   "execution_count": 9,
   "id": "3a3a57d5",
   "metadata": {},
   "outputs": [],
   "source": [
    "a = final_fun_1(x) #taking entire dataframe as input"
   ]
  },
  {
   "cell_type": "code",
   "execution_count": 10,
   "id": "539cfb66",
   "metadata": {},
   "outputs": [],
   "source": [
    "one_datapoint = dict(x.loc[0])"
   ]
  },
  {
   "cell_type": "code",
   "execution_count": 11,
   "id": "fd13937d",
   "metadata": {},
   "outputs": [
    {
     "name": "stdout",
     "output_type": "stream",
     "text": [
      "{'sku': 3285085, 'national_inv': 62.0, 'lead_time': nan, 'in_transit_qty': 0.0, 'forecast_3_month': 0.0, 'forecast_6_month': 0.0, 'forecast_9_month': 0.0, 'sales_1_month': 0.0, 'sales_3_month': 0.0, 'sales_6_month': 0.0, 'sales_9_month': 0.0, 'min_bank': 1.0, 'potential_issue': 'No', 'pieces_past_due': 0.0, 'perf_6_month_avg': -99.0, 'perf_12_month_avg': -99.0, 'local_bo_qty': 0.0, 'deck_risk': 'Yes', 'oe_constraint': 'No', 'ppap_risk': 'No', 'stop_auto_buy': 'Yes', 'rev_stop': 'No'}\n"
     ]
    }
   ],
   "source": [
    "print(one_datapoint)"
   ]
  },
  {
   "cell_type": "code",
   "execution_count": 12,
   "id": "5c6c2f1a",
   "metadata": {},
   "outputs": [
    {
     "data": {
      "text/plain": [
       "0"
      ]
     },
     "execution_count": 12,
     "metadata": {},
     "output_type": "execute_result"
    }
   ],
   "source": [
    "final_fun_1(one_datapoint) #taking one datapoint(dict) as input"
   ]
  },
  {
   "cell_type": "markdown",
   "id": "10553ca9",
   "metadata": {},
   "source": [
    "# final_func_2"
   ]
  },
  {
   "cell_type": "code",
   "execution_count": 13,
   "id": "fa26abda",
   "metadata": {},
   "outputs": [],
   "source": [
    "def final_fun_2(x, y):\n",
    "    \"\"\"\n",
    "    Takes the input dataframe and the target label as input and makes prediction. These predictions and then used to compute the performance\n",
    "    of the model. Metrics shown are accuracy, precision, recall, AUC and confusion matrix.\n",
    "    \"\"\"\n",
    "    if np.isnan(y.iloc[-1]) == True:\n",
    "        y = y[:-1]\n",
    "        y.replace({'Yes': 1, 'No': 0}, inplace=True)\n",
    "    else:\n",
    "        y.replace({'Yes': 1, 'No': 0}, inplace=True)\n",
    "        \n",
    "    x = x.drop('sku', axis=1)\n",
    "    #removing last row if they are all NaN\n",
    "    if x.iloc[-1].isna().all() == True:\n",
    "        x = x[:-1]\n",
    "    \n",
    "    x = x.fillna(lead_time_mean) #mean imputation\n",
    "    x.replace({'Yes': 1, 'No': 0}, inplace=True) #converting categorical features into binary features\n",
    "    \n",
    "    #adding binary_pieces_past_due\n",
    "    conditions = [x['pieces_past_due'] == 0, x['pieces_past_due'] > 0]\n",
    "    values = [0, 1]\n",
    "    x['binary_pieces_past_due'] = np.select(conditions, values)\n",
    "    \n",
    "    #adding binary_local_bo_qty\n",
    "    conditions = [x['local_bo_qty'] == 0, x['local_bo_qty'] > 0]\n",
    "    values = [0, 1]\n",
    "    x['binary_local_bo_qty'] = np.select(conditions, values)\n",
    "    \n",
    "    #imputing all categorical features\n",
    "    conditions_pt = [x['potential_issue'] == 0, x['potential_issue'] == 1]\n",
    "    values_pt = [potential_issue_probability_matrix['No'][0], potential_issue_probability_matrix['No'][1]]\n",
    "    x['potential_issue'] = np.select(conditions_pt, values_pt)\n",
    "    \n",
    "    conditions_dr = [x['deck_risk'] == 0, x['deck_risk'] == 1]\n",
    "    values_dr = [deck_risk_probability_matrix['No'][0], deck_risk_probability_matrix['No'][1]]\n",
    "    x['deck_risk'] = np.select(conditions_dr, values_dr)\n",
    "\n",
    "    conditions_oe = [x['oe_constraint'] == 0, x['oe_constraint'] == 1]\n",
    "    values_oe = [oe_constraint_probability_matrix['No'][0], oe_constraint_probability_matrix['No'][1]]\n",
    "    x['oe_constraint'] = np.select(conditions_oe, values_oe)\n",
    "\n",
    "    conditions_pp = [x['ppap_risk'] == 0, x['ppap_risk'] == 1]\n",
    "    values_pp = [ppap_risk_probability_matrix['No'][0], ppap_risk_probability_matrix['No'][1]]\n",
    "    x['ppap_risk'] = np.select(conditions_pp, values_pp)\n",
    "\n",
    "    conditions_stp = [x['stop_auto_buy'] == 0, x['stop_auto_buy'] == 1]\n",
    "    values_stp = [stop_auto_buy_probability_matrix['No'][0], stop_auto_buy_probability_matrix['No'][1]]\n",
    "    x['stop_auto_buy'] = np.select(conditions_stp, values_stp)\n",
    "\n",
    "    conditions_rev = [x['rev_stop'] == 0, x['rev_stop'] == 1]\n",
    "    values_rev = [rev_stop_probability_matrix['No'][0], rev_stop_probability_matrix['No'][1]]\n",
    "    x['rev_stop'] = np.select(conditions_rev, values_rev)\n",
    "\n",
    "    filename = 'best_model_forest.h5'\n",
    "    best_model = pickle.load(open(filename, 'rb'))\n",
    "    predictions = best_model.predict(x)\n",
    "    \n",
    "    #printing metrics\n",
    "    print('Accuracy:', accuracy_score(y, predictions))\n",
    "    #plotting confurion matrix\n",
    "    y_pred = best_model.predict_proba(x)[:,1]\n",
    "    fpr, tpr, thresholds = roc_curve(y, y_pred)\n",
    "    print('AUC:', auc(fpr, tpr))\n",
    "    plt.plot(fpr, tpr, label=\"AUC =\"+' '+str(auc(fpr, tpr)))\n",
    "    plt.legend()\n",
    "    plt.xlabel(\"FPR\")\n",
    "    plt.ylabel(\"TPR\")\n",
    "    plt.title(\"ROC-AUC Curve\")\n",
    "    plt.grid()\n",
    "    plt.show()"
   ]
  },
  {
   "cell_type": "code",
   "execution_count": 14,
   "id": "0c01299f",
   "metadata": {},
   "outputs": [
    {
     "name": "stdout",
     "output_type": "stream",
     "text": [
      "Accuracy: 0.9381927088712176\n",
      "AUC: 0.9259680311686973\n"
     ]
    },
    {
     "data": {
      "image/png": "[encoded data removed]",
      "text/plain": [
       "<Figure size 432x288 with 1 Axes>"
      ]
     },
     "metadata": {
      "needs_background": "light"
     },
     "output_type": "display_data"
    }
   ],
   "source": [
    "final_fun_2(x, y)"
   ]
  },
  {
   "cell_type": "markdown",
   "id": "96c38510",
   "metadata": {},
   "source": [
    "#### END ####"
   ]
  }
 ],
 "metadata": {
  "kernelspec": {
   "display_name": "Python 3 (ipykernel)",
   "language": "python",
   "name": "python3"
  },
  "language_info": {
   "codemirror_mode": {
    "name": "ipython",
    "version": 3
   },
   "file_extension": ".py",
   "mimetype": "text/x-python",
   "name": "python",
   "nbconvert_exporter": "python",
   "pygments_lexer": "ipython3",
   "version": "3.9.7"
  }
 },
 "nbformat": 4,
 "nbformat_minor": 5
}
